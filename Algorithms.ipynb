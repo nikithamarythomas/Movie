{
 "cells": [
  {
   "cell_type": "code",
   "execution_count": 3,
   "metadata": {},
   "outputs": [],
   "source": [
    "import pandas as pd\n",
    "from sklearn.model_selection import train_test_split\n",
    "from sklearn.feature_extraction.text import TfidfVectorizer\n",
    "from sklearn.linear_model import LogisticRegression\n",
    "from sklearn.svm import SVC\n",
    "from sklearn.ensemble import RandomForestClassifier\n",
    "from sklearn.metrics import accuracy_score, precision_score, recall_score, f1_score"
   ]
  },
  {
   "cell_type": "code",
   "execution_count": 4,
   "metadata": {},
   "outputs": [],
   "source": [
    "# Load the dataset\n",
    "df = pd.read_csv(r'C:\\Users\\annsu\\OneDrive\\Desktop\\AIDI\\AIDI Semester2\\AI in Enterprise Systems\\movie.csv')"
   ]
  },
  {
   "cell_type": "code",
   "execution_count": 5,
   "metadata": {},
   "outputs": [
    {
     "name": "stdout",
     "output_type": "stream",
     "text": [
      "                                                text  label\n",
      "0  I grew up (b. 1965) watching and loving the Th...      0\n",
      "1  When I put this movie in my DVD player, and sa...      0\n",
      "2  Why do people who do not know what a particula...      0\n",
      "3  Even though I have great interest in Biblical ...      0\n",
      "4  Im a die hard Dads Army fan and nothing will e...      1\n"
     ]
    }
   ],
   "source": [
    "# Display the first few rows of the dataset to verify the structure\n",
    "print(df.head())"
   ]
  },
  {
   "cell_type": "code",
   "execution_count": 6,
   "metadata": {},
   "outputs": [
    {
     "name": "stdout",
     "output_type": "stream",
     "text": [
      "Initial NaN values:\n",
      " text     0\n",
      "label    0\n",
      "dtype: int64\n"
     ]
    }
   ],
   "source": [
    "# Check for NaN values in the dataset\n",
    "print(\"Initial NaN values:\\n\", df.isnull().sum())"
   ]
  },
  {
   "cell_type": "code",
   "execution_count": 7,
   "metadata": {},
   "outputs": [],
   "source": [
    "# Drop rows with NaN values\n",
    "df.dropna(inplace=True)"
   ]
  },
  {
   "cell_type": "code",
   "execution_count": 8,
   "metadata": {},
   "outputs": [
    {
     "name": "stdout",
     "output_type": "stream",
     "text": [
      "After dropping NaN values:\n",
      " text     0\n",
      "label    0\n",
      "dtype: int64\n"
     ]
    }
   ],
   "source": [
    "# Confirm no NaN values\n",
    "print(\"After dropping NaN values:\\n\", df.isnull().sum())"
   ]
  },
  {
   "cell_type": "code",
   "execution_count": 9,
   "metadata": {},
   "outputs": [
    {
     "name": "stdout",
     "output_type": "stream",
     "text": [
      "Columns in the dataset: Index(['text', 'label'], dtype='object')\n"
     ]
    }
   ],
   "source": [
    "# Ensure the dataset has the correct columns\n",
    "print(\"Columns in the dataset:\", df.columns)"
   ]
  },
  {
   "cell_type": "code",
   "execution_count": 10,
   "metadata": {},
   "outputs": [],
   "source": [
    "# Map the 'label' values to numerical values (assuming 'positive' and 'negative')\n",
    "df['label'] = df['label'].map({'positive': 1, 'negative': 0})"
   ]
  },
  {
   "cell_type": "code",
   "execution_count": 11,
   "metadata": {},
   "outputs": [
    {
     "name": "stdout",
     "output_type": "stream",
     "text": [
      "NaN values in 'label' after mapping:\n",
      " 40000\n",
      "NaN values in 'label' after dropping NaNs:\n",
      " 0\n"
     ]
    }
   ],
   "source": [
    "# Check for NaN values in the 'label' column after mapping\n",
    "print(\"NaN values in 'label' after mapping:\\n\", df['label'].isnull().sum())\n",
    "\n",
    "# Drop any rows where 'label' is NaN after mapping\n",
    "df = df.dropna(subset=['label'])\n",
    "\n",
    "# Confirm no NaN values in the 'label' column\n",
    "print(\"NaN values in 'label' after dropping NaNs:\\n\", df['label'].isnull().sum())"
   ]
  },
  {
   "cell_type": "code",
   "execution_count": 12,
   "metadata": {},
   "outputs": [
    {
     "name": "stdout",
     "output_type": "stream",
     "text": [
      "Number of samples in the dataset: 0\n"
     ]
    }
   ],
   "source": [
    "# Verify the number of samples in the dataset\n",
    "print(\"Number of samples in the dataset:\", len(df))"
   ]
  },
  {
   "cell_type": "code",
   "execution_count": 13,
   "metadata": {},
   "outputs": [],
   "source": [
    "# Define a function to print evaluation metrics\n",
    "def print_evaluation_metrics(y_test, y_pred):\n",
    "    accuracy = accuracy_score(y_test, y_pred)\n",
    "    precision = precision_score(y_test, y_pred)\n",
    "    recall = recall_score(y_test, y_pred)\n",
    "    f1 = f1_score(y_test, y_pred)\n",
    "    print(f\"Accuracy: {accuracy}\")\n",
    "    print(f\"Precision: {precision}\")\n",
    "    print(f\"Recall: {recall}\")\n",
    "    print(f\"F1 Score: {f1}\")"
   ]
  },
  {
   "cell_type": "code",
   "execution_count": 14,
   "metadata": {},
   "outputs": [
    {
     "name": "stdout",
     "output_type": "stream",
     "text": [
      "The dataset is empty after preprocessing. Please check the dataset and preprocessing steps.\n"
     ]
    }
   ],
   "source": [
    "# Proceed with splitting the data if there are enough samples\n",
    "if len(df) > 0:\n",
    "    # Split the data into training and testing sets\n",
    "    X_train, X_test, y_train, y_test = train_test_split(df['text'], df['label'], test_size=0.2, random_state=42)\n",
    "    \n",
    "    # Vectorize the text data\n",
    "    vectorizer = TfidfVectorizer(stop_words='english', max_df=0.7)\n",
    "    X_train_tfidf = vectorizer.fit_transform(X_train)\n",
    "    X_test_tfidf = vectorizer.transform(X_test)\n",
    "    \n",
    "    # Train Logistic Regression model\n",
    "    lr_model = LogisticRegression(max_iter=1000)\n",
    "    lr_model.fit(X_train_tfidf, y_train)\n",
    "    \n",
    "    # Evaluate the model\n",
    "    y_pred_lr = lr_model.predict(X_test_tfidf)\n",
    "    \n",
    "    # Evaluate Logistic Regression\n",
    "    print(\"Logistic Regression:\")\n",
    "    print_evaluation_metrics(y_test, y_pred_lr)\n",
    "    \n",
    "    # Train Support Vector Machine model\n",
    "    svm_model = SVC()\n",
    "    svm_model.fit(X_train_tfidf, y_train)\n",
    "    \n",
    "    # Evaluate the model\n",
    "    y_pred_svm = svm_model.predict(X_test_tfidf)\n",
    "    \n",
    "    # Evaluate SVM\n",
    "    print(\"Support Vector Machine:\")\n",
    "    print_evaluation_metrics(y_test, y_pred_svm)\n",
    "    \n",
    "    # Train Random Forest model\n",
    "    rf_model = RandomForestClassifier()\n",
    "    rf_model.fit(X_train_tfidf, y_train)\n",
    "     # Evaluate the model\n",
    "    y_pred_rf = rf_model.predict(X_test_tfidf)\n",
    "    \n",
    "    # Evaluate Random Forest\n",
    "    print(\"Random Forest:\")\n",
    "    print_evaluation_metrics(y_test, y_pred_rf)\n",
    "\n",
    "else:\n",
    "    print(\"The dataset is empty after preprocessing. Please check the dataset and preprocessing steps.\")"
   ]
  }
 ],
 "metadata": {
  "kernelspec": {
   "display_name": "Python 3",
   "language": "python",
   "name": "python3"
  },
  "language_info": {
   "codemirror_mode": {
    "name": "ipython",
    "version": 3
   },
   "file_extension": ".py",
   "mimetype": "text/x-python",
   "name": "python",
   "nbconvert_exporter": "python",
   "pygments_lexer": "ipython3",
   "version": "3.11.5"
  }
 },
 "nbformat": 4,
 "nbformat_minor": 2
}
